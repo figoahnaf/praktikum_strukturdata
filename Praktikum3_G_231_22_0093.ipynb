{
  "nbformat": 4,
  "nbformat_minor": 0,
  "metadata": {
    "colab": {
      "provenance": [],
      "authorship_tag": "ABX9TyPzUedGjlqWLAAvQwFmyyQQ",
      "include_colab_link": true
    },
    "kernelspec": {
      "name": "python3",
      "display_name": "Python 3"
    },
    "language_info": {
      "name": "python"
    }
  },
  "cells": [
    {
      "cell_type": "markdown",
      "metadata": {
        "id": "view-in-github",
        "colab_type": "text"
      },
      "source": [
        "<a href=\"https://colab.research.google.com/github/figoahnaf/praktikum_strukturdata/blob/main/Praktikum3_G_231_22_0093.ipynb\" target=\"_parent\"><img src=\"https://colab.research.google.com/assets/colab-badge.svg\" alt=\"Open In Colab\"/></a>"
      ]
    },
    {
      "cell_type": "code",
      "execution_count": 1,
      "metadata": {
        "colab": {
          "base_uri": "https://localhost:8080/"
        },
        "id": "QmkS_Jyywg-c",
        "outputId": "d8248089-1e75-42a0-a204-f688de0259b3"
      },
      "outputs": [
        {
          "output_type": "stream",
          "name": "stdout",
          "text": [
            "geeksforgeeks\n"
          ]
        }
      ],
      "source": [
        "def convert(s):\n",
        " new = \"\"\n",
        " for x in s:\n",
        "  new += x\n",
        " return new\n",
        "\n",
        "# driver code\n",
        "s = ['g', 'e', 'e', 'k', 's', 'f', 'o', 'r','g', 'e', 'e', 'k', 's']\n",
        "print(convert(s))"
      ]
    },
    {
      "cell_type": "code",
      "source": [
        "def convert(s):\n",
        " new = \"\"\n",
        " for x in s:\n",
        "  new += x\n",
        " return new\n",
        "\n",
        "t = ['p', 'r', 'o', 'g', 'r', 'a', 'm',\n",
        " 'm', 'i', 'n', 'g']\n",
        "print(convert(t))"
      ],
      "metadata": {
        "colab": {
          "base_uri": "https://localhost:8080/"
        },
        "id": "H47cCvczwuJg",
        "outputId": "a32b7669-26cc-424f-9284-96231831bc09"
      },
      "execution_count": 2,
      "outputs": [
        {
          "output_type": "stream",
          "name": "stdout",
          "text": [
            "programming\n"
          ]
        }
      ]
    }
  ]
}